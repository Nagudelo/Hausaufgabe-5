{
 "metadata": {
  "name": ""
 },
 "nbformat": 3,
 "nbformat_minor": 0,
 "worksheets": [
  {
   "cells": [
    {
     "cell_type": "code",
     "collapsed": false,
     "input": [
      "#Estas son las librer\u00edas a importar\n",
      "\n",
      "%pylab inline\n",
      "from scipy.interpolate import interp1d\n",
      "import matplotlib.pyplot as plt\n",
      "import numpy as np"
     ],
     "language": "python",
     "metadata": {},
     "outputs": [
      {
       "output_type": "stream",
       "stream": "stdout",
       "text": [
        "Populating the interactive namespace from numpy and matplotlib\n"
       ]
      }
     ],
     "prompt_number": 1
    },
    {
     "cell_type": "code",
     "collapsed": false,
     "input": [
      "#El programa calcula el espectro de potencias de las se\u00f1ales recibidas y \n",
      "#muestra la gr\u00e1fica de la potencia en funci\u00f3n de las se\u00f1ales"
     ],
     "language": "python",
     "metadata": {},
     "outputs": [],
     "prompt_number": 3
    },
    {
     "cell_type": "code",
     "collapsed": false,
     "input": [
      "#Se definen el archivos de entrada \n",
      "\n",
      "input = 'sampled+ma0844az_1-1+_data.txt'\n",
      "    \n",
      "#Se carga el archivo de entrada\n",
      "\n",
      "data = genfromtxt('sampled+ma0844az_1-1+_data.txt')\n",
      "  \n",
      "#Se extrae el tama\u00f1o del archivo"
     ],
     "language": "python",
     "metadata": {},
     "outputs": [],
     "prompt_number": 6
    },
    {
     "cell_type": "code",
     "collapsed": false,
     "input": [],
     "language": "python",
     "metadata": {},
     "outputs": []
    }
   ],
   "metadata": {}
  }
 ]
}