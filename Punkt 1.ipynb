{
 "metadata": {
  "name": ""
 },
 "nbformat": 3,
 "nbformat_minor": 0,
 "worksheets": [
  {
   "cells": [
    {
     "cell_type": "code",
     "collapsed": false,
     "input": [
      "#Estas son las librer\u00edas a importar\n",
      "\n",
      "%pylab inline\n",
      "from scipy.interpolate import interp1d\n",
      "import matplotlib.pyplot as plt\n",
      "import numpy as np"
     ],
     "language": "python",
     "metadata": {},
     "outputs": [
      {
       "output_type": "stream",
       "stream": "stdout",
       "text": [
        "Populating the interactive namespace from numpy and matplotlib\n"
       ]
      }
     ],
     "prompt_number": 4
    },
    {
     "cell_type": "code",
     "collapsed": false,
     "input": [
      "#El programa calcula el espectro de potencias de las se\u00f1ales recibidas de un encefalograma y \n",
      "#muestra la gr\u00e1fica de la potencia en funci\u00f3n de las se\u00f1ales\n",
      "\n",
      "#Autores: Nathalie Agudelo y Roberto Mor\u00e1n\n",
      "#Fecha de creaci\u00f3n: 09/10/2013\n",
      "\n",
      "#C\u00f3digo consultado como modelo: module_skeleton.py por Jaime E. Forero-Romero"
     ],
     "language": "python",
     "metadata": {},
     "outputs": [],
     "prompt_number": 5
    },
    {
     "cell_type": "code",
     "collapsed": false,
     "input": [
      "#Se define el archivo de entrada \n",
      "    #Input:\n",
      "    #- filename: Archivo de entrada. Contiene 400 filas y 24 columnas fijas \n",
      "    #con se\u00f1ales de electrodos de un encefalograma.\n",
      "    #Output:\n",
      "    #- data: arreglo de tama\u00f1o [n:m]. Contiene la informaci\u00f3n del archivo de entrada.\n",
      "\n",
      "input = 'sampled+ma0844az_1-1+_data.txt'\n",
      "    \n",
      "#Se carga el archivo de entrada\n",
      "\n",
      "data = genfromtxt('sampled+ma0844az_1-1+_data.txt')\n",
      "  \n",
      "#Se extrae el tama\u00f1o del archivo\n",
      "#Se define n como el n\u00famero de columnas que corresponde a cada electrodo\n",
      "#Se define m como el n\u00famero de filas que corresponde a la se\u00f1al en un tiempo t\n",
      "#Input:\n",
      "    #- data: arreglo de tama\u00f1o [n:m]. Contiene la informaci\u00f3n del archivo de entrada. \n",
      "#Output:\n",
      "    #- n: arreglo de tama\u00f1o [1:24]. Guarda el n\u00famero de filas en data.\n",
      "    #- m: arreglo de tama\u00f1o [400:1]. Guarda el n\u00famero de columnas en data.\n",
      "\n",
      "n = size(data[1,:])\n",
      "m = size(data[:,1])"
     ],
     "language": "python",
     "metadata": {},
     "outputs": [],
     "prompt_number": 6
    },
    {
     "cell_type": "code",
     "collapsed": false,
     "input": [
      "#Utiliza la informaci\u00f3n contenida en data para calcular el espectro de potencias.\n",
      "#Input:\n",
      "    #- data: arreglo de tama\u00f1o [n:m]. Contiene la informaci\u00f3n del archivo de entrada.\n",
      "#Output:\n",
      "    #- fft_f: arreglo de tama\u00f1o [1,m]. Guarda el valor de las frecuencias de la se\u00f1al.\n",
      "    #- fft_c: arreglo de complejos de tama\u00f1o [1,m]. Guarda el valor de los coeficientes de Fourier.\n",
      "\n",
      "    def det_fourier(data):\n",
      "    \n",
      "    #Se calculan las frecuencias y los coeficientes asociados a cada se\u00f1al\n",
      "    \n",
      "    fft_f = data\n",
      "    fft_c = data\n",
      "    \n",
      "    return fft_f, fft_c\n"
     ],
     "language": "python",
     "metadata": {},
     "outputs": [],
     "prompt_number": 28
    },
    {
     "cell_type": "code",
     "collapsed": false,
     "input": [
      "def det_espectro(fft_f, fft_c):\n",
      "\n",
      "#Calcula el espectro de potencias en funci\u00f3n de las frecuencias para la se\u00f1al de entrada.\n",
      "#Input:\n",
      "    #- fft_f: arreglo de tama\u00f1o [1,m]. Guarda el valor de las frecuencias de la se\u00f1al.\n",
      "    #- fft_c: arreglo de complejos de tama\u00f1o [1,m]. Guarda el valor de los coeficientes de Fourier.\n",
      "#Output:\n",
      "    #- espectro_pot: arreglo de tama\u00f1o [1,m]. Guarda el espectro de potencias de la se\u00f1al.\n",
      "    \n",
      "    \n",
      "    #Se calcula la norma al cuadrado de los coeficientes de Fourier para obtener el espectro de potencias\n",
      "    \n",
      "    espectro_pot = fft_c;\n",
      "\n",
      "    return espectro_pot"
     ],
     "language": "python",
     "metadata": {},
     "outputs": [],
     "prompt_number": 29
    },
    {
     "cell_type": "code",
     "collapsed": false,
     "input": [
      "def plot_espectro(espectro_pot, fft_f):\n",
      "\n",
      "#Grafica el espectro de potencias en funci\u00f3n de las frecuencias para la se\u00f1al de entrada.\n",
      "#Input:\n",
      "    #- espectro_pot: arreglo de tama\u00f1o [1,m]. Guarda el espectro de potencias para la se\u00f1al.\n",
      "    #- fft_f: arreglo de complejos de tama\u00f1o [1,m]. Guarda el valor de las frecuencias de la se\u00f1al.\n",
      "    \n",
      "    \n",
      "    #Las frecuencias se encuentran igualmente espaciadas. No se requiere interpolar. S\u00f3lo se grafican el espectro.\n",
      "\n",
      "    return "
     ],
     "language": "python",
     "metadata": {},
     "outputs": [],
     "prompt_number": 7
    },
    {
     "cell_type": "code",
     "collapsed": false,
     "input": [
      "def filtrar_espectro(fft_c,espectro_pot):\n",
      "\n",
      "#Filtra la se\u00f1al.\n",
      "#Toma s\u00f3lo los 10 valores cuya que en el espectro de potencias son los mayores.\n",
      "#Asigna cero al resto de valores.\n",
      "#Input:\n",
      "    #- espectro_pot: arreglo de tama\u00f1o [1,m]. Guarda el espectro de potencias para la se\u00f1al.\n",
      "    #- fft_c: arreglo de complejos de tama\u00f1o [1,m]. Guarda el valor de los coeficientes de Fourier.\n",
      "#Output:\n",
      "    #- filtro_pot: arreglo de tama\u00f1o [1,10]. Guarda los 10 valores m\u00e1s altos del espectro de potencias.\n",
      " \n",
      "#Se recorre el arreglo espectro_pot y se guardan los 10 datos m\u00e1s altos.\n",
      "#Se \n",
      "\n",
      "    filtro_pot = espectro_pot\n",
      "    \n",
      "    return filtro_pot"
     ],
     "language": "python",
     "metadata": {},
     "outputs": [],
     "prompt_number": 11
    },
    {
     "cell_type": "code",
     "collapsed": false,
     "input": [
      "def t_inversa(filtro_pot,fft_c):\n",
      "\n",
      "#Retorna los valores para reconstruir la se\u00f1al con los 10 datos del filtro.\n",
      "#Input:\n",
      "    #- filtro_pot: arreglo de tama\u00f1o [1,10]. Guarda los 10 valores m\u00e1s altos del espectro de potencias.\n",
      "    #- fft_c: arreglo de complejos de tama\u00f1o [1,m]. Guarda el valor de los coeficientes de Fourier.\n",
      "#Output:\n",
      "    #- fft_c_f: arreglo de complejos de tama\u00f1o [1,m]. Guarda el valor de los 10 coeficientes de Fourier del filtro.\n",
      "    #A las otras posiciones se les asigna cero.\n",
      "\n",
      "#Se recorre el arreglo filtro_pot. Si en la posici\u00f3n hay un cero, entonces asigna a fft_c_f un cero. \n",
      "#Sino, guarda el dato en fft_c_f que corresponde a la posici\u00f3n en fft_c.\n",
      "\n",
      "        \n",
      "    fft_c_f = fft_c\n",
      "    \n",
      "    return fft_c_f"
     ],
     "language": "python",
     "metadata": {},
     "outputs": [],
     "prompt_number": 12
    },
    {
     "cell_type": "code",
     "collapsed": false,
     "input": [
      "def plot_rec(fft_c_f):\n",
      "\n",
      "#Grafica la reconstrucci\u00f3n de la se\u00f1al en funci\u00f3n del tiempo.\n",
      "#Input:\n",
      "    #- fft_c: arreglo de complejos de tama\u00f1o [1,m]. Guarda el valor de los coeficientes de Fourier.\n",
      "     \n",
      "#Se grafican las se\u00f1ales para cada tiempo. Las se\u00f1ales est\u00e1n igualmente espaciadas.\n",
      "\n",
      "    return "
     ],
     "language": "python",
     "metadata": {},
     "outputs": []
    }
   ],
   "metadata": {}
  }
 ]
}