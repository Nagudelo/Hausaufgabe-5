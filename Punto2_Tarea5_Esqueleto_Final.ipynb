{
 "metadata": {
  "name": ""
 },
 "nbformat": 3,
 "nbformat_minor": 0,
 "worksheets": [
  {
   "cells": [
    {
     "cell_type": "code",
     "collapsed": false,
     "input": [
      "#Estas son las librer\u00edas a importar\n",
      "\n",
      "%pylab inline\n",
      "import matplotlib.pyplot as plt\n",
      "import numpy as np\n",
      "from numpy import pi"
     ],
     "language": "python",
     "metadata": {},
     "outputs": [
      {
       "output_type": "stream",
       "stream": "stdout",
       "text": [
        "Populating the interactive namespace from numpy and matplotlib\n"
       ]
      }
     ],
     "prompt_number": 1
    },
    {
     "cell_type": "code",
     "collapsed": false,
     "input": [
      "#cargamos el archivo a un arreglo\n",
      "data = genfromtxt('sparse_sample_monthrg.dat')"
     ],
     "language": "python",
     "metadata": {},
     "outputs": [],
     "prompt_number": 2
    },
    {
     "cell_type": "code",
     "collapsed": false,
     "input": [
      "#inicializamos arreglos nuevos para guardar los datos de interes del archivo\n",
      "x=arange(0,498)\n",
      "meses=[]\n",
      "datos=[]"
     ],
     "language": "python",
     "metadata": {},
     "outputs": [],
     "prompt_number": 13
    },
    {
     "cell_type": "code",
     "collapsed": false,
     "input": [
      "#En unos de los arreglos creados correspondiente a meses ingresaremos los datos que los meses q poseemos.\n",
      "#Como no tenemos datos de todos los meses de todos los a\u00f1os, este arreglo no tendr\u00e1 una distancia igual en tiempo entre sus elementos.\n",
      "#Sin embargo, para poder graficar los datos, le asignamos a cada mes un numero que corresponde a su posicion dentro de una secuancia \n",
      "#de meses en donde enero de 1610 es el mes numero 1 y diciembre de 1995 es el mes 4632. \n",
      "#Al mismo tiempo, quitamos los meses en los cuales no hay registro de manchas.\n",
      "\n",
      "for i in x:\n",
      "    if data[i,3]!= -99:\n",
      "        posicion=(((data[i,0]-data[0,0])*12)+data[i,1])\n",
      "        meses.append(posicion)\n",
      "        datos.append(data[i,3])\n",
      "tamano=size(meses)"
     ],
     "language": "python",
     "metadata": {},
     "outputs": [],
     "prompt_number": 14
    },
    {
     "cell_type": "code",
     "collapsed": false,
     "input": [
      "#Utilizando los arreglos \"meses\" y \"datos\" realizamos las interpolaciones costantes, lineales y cubicas. Para cumplir con este objetivo\n",
      "#utilizamos la libreria 'interp1d', la cual importamos desde scipy.interpolate. \n",
      "from scipy.interpolate import interp1d\n",
      "interp  = interp1d(meses, datos,kind=0)\n",
      "interp1 = interp1d(meses, datos,kind=1)\n",
      "interp3 = interp1d(meses, datos,kind=3)"
     ],
     "language": "python",
     "metadata": {},
     "outputs": [],
     "prompt_number": 15
    },
    {
     "cell_type": "code",
     "collapsed": false,
     "input": [
      "#Teniendo nuestras funciones de interpolacion, procederemos a realizarles la transformada de fourier. Para cumplir este objetivo\n",
      "#importaremos las librerias 'fft' y 'fftfreq' desde scipy.fftpack. Las funciones 'fft(array)' nos permitir\u00e1 obtener un arreglo de datos\n",
      "#los cuales corresponderan a los coeficientes de Fourier. Por otro lado la funcion 'fftfreq(tama\u00f1o, intervalo de tiempo)' nos permitir\u00e1\n",
      "#recuperar las frecuencias para ser utilizadas como variable independiente. \n",
      "from scipy.fftpack import fft, fftfreq\n",
      "f = 200.0 #  frequency in Hz\n",
      "dt = 1 / (f *32 ) #32 samples per frequency\n",
      "fourier=fft(interp(meses))\n",
      "normal=fourier/tamano\n",
      "fourier1=fft(interp1(meses))\n",
      "normal1=fourier1/tamano\n",
      "fourier3=fft(interp3(meses))\n",
      "normal3=fourier3/tamano\n",
      "frequ = fftfreq(tamano, 1) # Recuperamos las frecuencias"
     ],
     "language": "python",
     "metadata": {},
     "outputs": [],
     "prompt_number": 16
    },
    {
     "cell_type": "code",
     "collapsed": false,
     "input": [
      "#Apartir de los arreglos devueltos por la transformada de Fourier, procederemos a realizar las funciones de potencias, las cuales\n",
      "#comprenden la norma al cuadrado de cada coeficiente de Fourier.\n",
      "potencias=[]\n",
      "potencias1=[]\n",
      "potencias3=[]\n",
      "q=arange(0,size(fourier))\n",
      "for k in q:\n",
      "    potencias.append(power(np.abs(fourier[k]),2))\n",
      "    potencias1.append(power(np.abs(fourier1[k]),2))\n",
      "    potencias3.append(power(np.abs(fourier3[k]),2))"
     ],
     "language": "python",
     "metadata": {},
     "outputs": [],
     "prompt_number": 17
    },
    {
     "cell_type": "code",
     "collapsed": false,
     "input": [
      "#Ahora procederemos a limpiar la se\u00f1al seg\u00fan las condiciones impuestas. Se anular\u00e1n los datos correspondientes periodos menores de\n",
      "#20 a\u00f1os (frecuencias menores de 1/240) y mayores de 2 a\u00f1os (frecuencias mayores a 1/24). \n",
      "fourier[np.abs(frequ) > (1/24)] = 0\n",
      "fourier[np.abs(frequ) < (1/240)] = 0\n",
      "fourier1[np.abs(frequ) > (1/24)] = 0\n",
      "fourier1[np.abs(frequ) < (1/240)] = 0\n",
      "fourier3[np.abs(frequ) > (1/24)] = 0\n",
      "fourier3[np.abs(frequ) < (1/240)] = 0"
     ],
     "language": "python",
     "metadata": {},
     "outputs": [],
     "prompt_number": 18
    },
    {
     "cell_type": "code",
     "collapsed": false,
     "input": [
      "# Teniendo nuestras tres transformadas de Fourier filtradas, procederemos a realizar las tres transformadas inversas. Para cumplir\n",
      "# este objetivo utilizaremos la funcion 'ifft(array)' .\n",
      "datos_limpios=ifft(fourier)\n",
      "datos_limpios1=ifft(fourier1)\n",
      "datos_limpios3=ifft(fourier3)"
     ],
     "language": "python",
     "metadata": {},
     "outputs": [],
     "prompt_number": 19
    },
    {
     "cell_type": "code",
     "collapsed": false,
     "input": [
      "#Teniendo los datos limpios podemos graficar estos en funcion del tiempo, seg\u00fan nuestro intervalo inicial 'meses'. "
     ],
     "language": "python",
     "metadata": {},
     "outputs": []
    }
   ],
   "metadata": {}
  }
 ]
}