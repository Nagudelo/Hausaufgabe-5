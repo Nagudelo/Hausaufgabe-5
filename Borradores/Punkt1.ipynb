{
 "metadata": {
  "name": ""
 },
 "nbformat": 3,
 "nbformat_minor": 0,
 "worksheets": [
  {
   "cells": [
    {
     "cell_type": "code",
     "collapsed": false,
     "input": [
      "#Estas son las librer\u00edas a importar\n",
      "\n",
      "%pylab inline\n",
      "from scipy.interpolate import interp1d\n",
      "from scipy.fftpack import fft, fftfreq\n",
      "import matplotlib.pyplot as plt\n",
      "import numpy as np"
     ],
     "language": "python",
     "metadata": {},
     "outputs": [],
     "prompt_number": "*"
    },
    {
     "cell_type": "code",
     "collapsed": false,
     "input": [
      "#El programa calcula el espectro de potencias de las se\u00f1ales recibidas de un encefalograma y \n",
      "#muestra la gr\u00e1fica de la potencia en funci\u00f3n de las se\u00f1ales.\n",
      "#El programa realiza una reconstrucci\u00f3n de las se\u00f1ales recibidas de un encefalograma.\n",
      "\n",
      "#Autores: Nathalie Agudelo y Roberto Mor\u00e1n\n",
      "#Fecha de creaci\u00f3n: 09/10/2013\n",
      "\n",
      "#C\u00f3digo consultado como modelo: module_skeleton.py por Jaime E. Forero Romero"
     ],
     "language": "python",
     "metadata": {},
     "outputs": [],
     "prompt_number": "*"
    },
    {
     "cell_type": "code",
     "collapsed": false,
     "input": [
      "#Se define el archivo de entrada \n",
      "\n",
      "input = 'sampled+ma0844az_1-1+_data.txt'\n",
      "    \n",
      "#Se carga el archivo de entrada\n",
      "\n",
      "data = genfromtxt('sampled+ma0844az_1-1+_data.txt')\n",
      "  \n",
      "#Se extrae el tama\u00f1o del archivo\n",
      "#- n: arreglo de tama\u00f1o 24. Guarda el n\u00famero de columnas en data.\n",
      "#- m: arreglo de tama\u00f1o 400. Guarda el n\u00famero de filas en data.\n",
      "n = size(data[1,:])\n",
      "m = size(data[:,1])\n",
      "\n",
      "#Separacion entre cada medicion\n",
      "dt = 1\n",
      "shape(data)"
     ],
     "language": "python",
     "metadata": {},
     "outputs": [],
     "prompt_number": "*"
    },
    {
     "cell_type": "code",
     "collapsed": false,
     "input": [
      "num=arange(0,24)\n",
      "minutos=linspace(0,400,400)"
     ],
     "language": "python",
     "metadata": {},
     "outputs": [],
     "prompt_number": "*"
    },
    {
     "cell_type": "code",
     "collapsed": false,
     "input": [
      "for i in num:\n",
      "    plot(minutos, data[:,i])"
     ],
     "language": "python",
     "metadata": {},
     "outputs": [],
     "prompt_number": "*"
    },
    {
     "cell_type": "code",
     "collapsed": false,
     "input": [
      "#Utiliza la informaci\u00f3n contenida en data para calcular el espectro de potencias.\n",
      " \n",
      "def det_fourier(i):\n",
      "    \n",
      "    #Se calculan las frecuencias y los coeficientes asociados a cada se\u00f1al\n",
      "    \n",
      "    fft_f = fftfreq(m,dt)\n",
      "    fft_signal = fft(data[:,i])\n",
      "    fft_c = np.abs(fft_signal)\n",
      "    \n",
      "    return fft_f, fft_c, fft_signal   "
     ],
     "language": "python",
     "metadata": {},
     "outputs": [],
     "prompt_number": "*"
    },
    {
     "cell_type": "code",
     "collapsed": false,
     "input": [
      "#Calcula el espectro de potencias en funci\u00f3n de las frecuencias para la se\u00f1al de entrada.\n",
      "\n",
      "def det_espectro(fft_f, fft_c):\n",
      "    \n",
      "    espectro_pot = [] \n",
      "    #Se calcula la norma al cuadrado de los coeficientes de Fourier para obtener el espectro de potencias\n",
      "    for i in range(shape(fft_c)[0]):\n",
      "        \n",
      "        fft_c2 = (fft_c[i])**2\n",
      "        espectro_pot.append(fft_c2)\n",
      "\n",
      "    return espectro_pot"
     ],
     "language": "python",
     "metadata": {},
     "outputs": [],
     "prompt_number": "*"
    },
    {
     "cell_type": "code",
     "collapsed": false,
     "input": [
      "#Grafica el espectro de potencias en funci\u00f3n de las frecuencias para la se\u00f1al de entrada.\n",
      "\n",
      "def plot_espectro(espectro_pot, fft_f):\n",
      "    \n",
      "    #Las frecuencias se encuentran igualmente espaciadas.  \n",
      "    #Se grafica el espectro.\n",
      "    \n",
      "    plot(fft_f,espectro_pot)\n",
      "\n",
      "    return "
     ],
     "language": "python",
     "metadata": {},
     "outputs": [],
     "prompt_number": "*"
    },
    {
     "cell_type": "code",
     "collapsed": false,
     "input": [
      "def filtrar_espectro(espectro_pot):\n",
      "    \n",
      "#Se recorre el arreglo espectro_pot y se guardan los 10 datos m\u00e1s altos. Se asigna 0 al resto de datos.\n",
      "\n",
      "#Se utiliza argsort para obetener las posiciones de los 10 datos m\u00e1s altos      \n",
      "    filtro_pot10 = (-espectro_pot).argsort()[:10]\n",
      "\n",
      "    for j in range(shape(espectro_pot)[0]):\n",
      "       \n",
      "        for i in range(shape(filtro_pot10)[0]):\n",
      "          \n",
      "            if (filtro_pot10[i] == j):\n",
      "                            \n",
      "                filtro_pot[j].append(espectro_pot[i])\n",
      "                \n",
      "            else:\n",
      "                \n",
      "                filtro_pot[j].append(0)\n",
      "                \n",
      "    return filtro_pot\n"
     ],
     "language": "python",
     "metadata": {},
     "outputs": [],
     "prompt_number": "*"
    },
    {
     "cell_type": "code",
     "collapsed": false,
     "input": [
      "#Retorna los valores para reconstruir la se\u00f1al con los 10 datos del filtro.\n",
      "\n",
      "def t_inversa(filtro_pot,fft_c, fft_signal):\n",
      "\n",
      "#Se recorre el arreglo filtro_pot. Si en la posici\u00f3n hay un cero, entonces asigna a fft_c_f un cero. \n",
      "#Sino, guarda el dato en fft_c_f que corresponde a la posici\u00f3n en fft_c.\n",
      "\n",
      "    for i in range(shape(filtro_pot)[0]):\n",
      " \n",
      "        if (filtro_pot[i] != 0):\n",
      "            \n",
      "            filtro_pot[i] = fft_signal[i]\n",
      "            \n",
      "    fft_c_f = ifft(filtro_pot)    \n",
      "            \n",
      "    return fft_c_f"
     ],
     "language": "python",
     "metadata": {},
     "outputs": [],
     "prompt_number": "*"
    },
    {
     "cell_type": "code",
     "collapsed": false,
     "input": [
      "def plot_rec(fft_c_f):\n",
      "\n",
      "#Grafica la reconstrucci\u00f3n de la se\u00f1al en funci\u00f3n del tiempo.\n",
      "     \n",
      "#Se grafican las se\u00f1ales para cada tiempo. Las se\u00f1ales est\u00e1n igualmente espaciadas.\n",
      "\n",
      "    plot(fft_c_f)\n",
      "\n",
      "    return "
     ],
     "language": "python",
     "metadata": {},
     "outputs": [],
     "prompt_number": "*"
    },
    {
     "cell_type": "code",
     "collapsed": false,
     "input": [
      "x=linspace(1,2,100)\n",
      "plot(x,sin(x),\"yo\",label=\"f(x)=sin(x)\")\n",
      "xlabel(\"x\")\n",
      "ylabel(\"f(x)=sin(x)\")\n",
      "legend()\n",
      "plt.show()\n",
      "plt.close()\n",
      "\n",
      "plot(x,sin(2*x),\"g,\",label=\"f(x)=sin(2x)\")\n",
      "xlabel(\"x\")\n",
      "ylabel(\"f(x)=sin(2x)\")\n",
      "legend()\n",
      "plt.show()\n",
      "plt.close()\n"
     ],
     "language": "python",
     "metadata": {},
     "outputs": [],
     "prompt_number": "*"
    },
    {
     "cell_type": "code",
     "collapsed": false,
     "input": [
      "#Se recorre el arreglo data entrando primero a las columnas y luego recorriendo las filas, \n",
      "#esto es en [i:k] que corresponden a cada se\u00f1al dada por un electrodo del encefalograma. \n",
      "#Para cada [i:k] en data, se obtienen las gr\u00e1ficas del espectro de potencias y la reconstrucci\u00f3n de la se\u00f1al.\n",
      "#Dado que n y m son fijas, deben obtenerse 24 espectros y 24 se\u00f1ales reconstruidas.\n",
      "\n",
      "for i in data[1,:]:\n",
      "    \n",
      "    for j in data[:,1]:\n",
      "        \n",
      "        #Se obtienen los arreglos con las ftt's, las frecuencias y los coeficientes de Fourier.\n",
      "        \n",
      "        fft_f, fft_c, fft_signal = det_fourier(j)\n",
      "        \n",
      "        #Se obtiene el arreglo con las potencias de los coeficientes de Fourier.\n",
      "        \n",
      "        espectro_pot = det_espectro(fft_f, fft_c)\n",
      "\n",
      "        #Se grafica el espectro de potencias en funci\u00f3n de la frecuencia.\n",
      "        \n",
      "        plot_espectro(espectro_pot, fft_f)\n",
      "        \n",
      "        #plt.show()\n",
      "        #plt.close()\n",
      "        \n",
      "#for i in range(m):\n",
      "    \n",
      " #   for j in range(n):\n",
      "\n",
      "        #Se filtran las se\u00f1ales eligiendo s\u00f3lo los 10 valores m\u00e1s altos.\n",
      "\n",
      "  #      filtro_pot = filtrar_espectro(espectro_pot)\n",
      "\n",
      "        #Se calcula la transformada inversa de los 10 valores m\u00e1s altos para regresar al dominio del tiempo.\n",
      "\n",
      "   #     fft_c_f = t_inversa(filtro_pot,fft_c, fft_signal)\n",
      "\n",
      "        #Se grafican la se\u00f1al en funci\u00f3n del tiempo para reconstruirla.\n",
      "        \n",
      "    #    plot_rec(fft_c_f)\n",
      "     #   plt.show()\n",
      "      #  plt.close()"
     ],
     "language": "python",
     "metadata": {},
     "outputs": [],
     "prompt_number": "*"
    },
    {
     "cell_type": "code",
     "collapsed": false,
     "input": [],
     "language": "python",
     "metadata": {},
     "outputs": [],
     "prompt_number": "*"
    },
    {
     "cell_type": "code",
     "collapsed": false,
     "input": [],
     "language": "python",
     "metadata": {},
     "outputs": []
    }
   ],
   "metadata": {}
  }
 ]
}